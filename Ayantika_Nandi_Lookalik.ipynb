{
  "nbformat": 4,
  "nbformat_minor": 0,
  "metadata": {
    "colab": {
      "provenance": []
    },
    "kernelspec": {
      "name": "python3",
      "display_name": "Python 3"
    },
    "language_info": {
      "name": "python"
    }
  },
  "cells": [
    {
      "cell_type": "code",
      "execution_count": null,
      "metadata": {
        "id": "MFDtQP5FeuGy"
      },
      "outputs": [],
      "source": [
        "import pandas as pd\n",
        "\n"
      ]
    },
    {
      "cell_type": "code",
      "source": [
        "# Load the datasets\n",
        "customers = pd.read_csv('/content/Customers.csv')\n",
        "products = pd.read_csv('/content/Products.csv')\n",
        "transactions = pd.read_csv('/content/Transactions.csv')\n",
        "\n",
        "print(customers.head())\n",
        "print(products.head())\n",
        "print(transactions.head())\n"
      ],
      "metadata": {
        "colab": {
          "base_uri": "https://localhost:8080/"
        },
        "id": "yBgh5dZWe-ZQ",
        "outputId": "134dde7a-f5a0-482c-8157-b8f9f1d4784a"
      },
      "execution_count": null,
      "outputs": [
        {
          "output_type": "stream",
          "name": "stdout",
          "text": [
            "  CustomerID        CustomerName         Region  SignupDate\n",
            "0      C0001    Lawrence Carroll  South America  2022-07-10\n",
            "1      C0002      Elizabeth Lutz           Asia  2022-02-13\n",
            "2      C0003      Michael Rivera  South America  2024-03-07\n",
            "3      C0004  Kathleen Rodriguez  South America  2022-10-09\n",
            "4      C0005         Laura Weber           Asia  2022-08-15\n",
            "  ProductID              ProductName     Category   Price\n",
            "0      P001     ActiveWear Biography        Books  169.30\n",
            "1      P002    ActiveWear Smartwatch  Electronics  346.30\n",
            "2      P003  ComfortLiving Biography        Books   44.12\n",
            "3      P004            BookWorld Rug   Home Decor   95.69\n",
            "4      P005          TechPro T-Shirt     Clothing  429.31\n",
            "  TransactionID CustomerID ProductID      TransactionDate  Quantity  \\\n",
            "0        T00001      C0199      P067  2024-08-25 12:38:23         1   \n",
            "1        T00112      C0146      P067  2024-05-27 22:23:54         1   \n",
            "2        T00166      C0127      P067   2024-04-25 7:38:55         1   \n",
            "3        T00272      C0087      P067  2024-03-26 22:55:37         2   \n",
            "4        T00363      C0070      P067  2024-03-21 15:10:10         3   \n",
            "\n",
            "   TotalValue   Price  \n",
            "0      300.68  300.68  \n",
            "1      300.68  300.68  \n",
            "2      300.68  300.68  \n",
            "3      601.36  300.68  \n",
            "4      902.04  300.68  \n"
          ]
        }
      ]
    },
    {
      "cell_type": "markdown",
      "source": [
        "#Step 2: Data Cleaning and Feature *Engineering*"
      ],
      "metadata": {
        "id": "bDaK20PsfSod"
      }
    },
    {
      "cell_type": "code",
      "source": [
        "# Extract the month and year from SignupDate\n",
        "customers['SignupYear'] = pd.to_datetime(customers['SignupDate']).dt.year\n",
        "customers['SignupMonth'] = pd.to_datetime(customers['SignupDate']).dt.month\n",
        "\n",
        "# Aggregate customer transaction data\n",
        "customer_transactions = transactions.groupby('CustomerID').agg(\n",
        "    total_spent=('TotalValue', 'sum'),\n",
        "    transaction_count=('TransactionID', 'count')\n",
        ").reset_index()\n",
        "\n",
        "# Merge with the customers dataset to get complete customer profile\n",
        "customer_data = pd.merge(customers, customer_transactions, on='CustomerID', how='left')\n",
        "\n",
        "# Merge transaction data with product information\n",
        "transactions_with_products = pd.merge(transactions, products[['ProductID', 'Category']], on='ProductID', how='left')\n"
      ],
      "metadata": {
        "id": "0aPgCemJfPym"
      },
      "execution_count": null,
      "outputs": []
    },
    {
      "cell_type": "markdown",
      "source": [
        "#Step 3: Similarity Calculation"
      ],
      "metadata": {
        "id": "XSNnBKEUfdxZ"
      }
    },
    {
      "cell_type": "code",
      "source": [
        "from sklearn.preprocessing import StandardScaler\n",
        "from sklearn.metrics.pairwise import cosine_similarity\n",
        "\n",
        "# Create a customer-category interaction matrix\n",
        "customer_product_matrix = pd.pivot_table(\n",
        "    transactions_with_products,\n",
        "    index='CustomerID',\n",
        "    columns='Category',\n",
        "    values='Quantity',\n",
        "    aggfunc='sum',\n",
        "    fill_value=0\n",
        ")\n",
        "\n",
        "# Normalize the interaction matrix (optional, based on the model's needs)\n",
        "scaler = StandardScaler()\n",
        "customer_product_matrix_scaled = scaler.fit_transform(customer_product_matrix)\n",
        "\n",
        "# Calculate the cosine similarity between customers\n",
        "similarity_matrix = cosine_similarity(customer_product_matrix_scaled)\n",
        "\n",
        "# Convert the similarity matrix into a DataFrame for easier interpretation\n",
        "similarity_df = pd.DataFrame(similarity_matrix, index=customer_product_matrix.index, columns=customer_product_matrix.index)\n"
      ],
      "metadata": {
        "id": "Wtj1r-JVfaUh"
      },
      "execution_count": null,
      "outputs": []
    },
    {
      "cell_type": "markdown",
      "source": [
        "#Step 4: Lookalike Recommendation"
      ],
      "metadata": {
        "id": "ixMxJ5gOfnpq"
      }
    },
    {
      "cell_type": "code",
      "source": [
        "lookalike_recommendations = {}\n",
        "\n",
        "# For the first 20 customers (CustomerID: C0001 to C0020)\n",
        "for customer_id in customer_data['CustomerID'][:20]:\n",
        "    # Get the similarity scores for the current customer\n",
        "    similarity_scores = similarity_df[customer_id]\n",
        "\n",
        "    # Sort the similarity scores and get the top 3 most similar customers (excluding the customer itself)\n",
        "    similar_customers = similarity_scores.drop(customer_id).sort_values(ascending=False).head(3)\n",
        "\n",
        "    # Store the results\n",
        "    lookalike_recommendations[customer_id] = [(cust_id, score) for cust_id, score in zip(similar_customers.index, similar_customers.values)]\n",
        "\n",
        "# Display the recommendations for the first customer\n",
        "print(lookalike_recommendations['C0001'])\n"
      ],
      "metadata": {
        "colab": {
          "base_uri": "https://localhost:8080/"
        },
        "id": "hdCOmhbCfpH0",
        "outputId": "a112effe-06f2-4c8c-bf61-459e3363fdb6"
      },
      "execution_count": null,
      "outputs": [
        {
          "output_type": "stream",
          "name": "stdout",
          "text": [
            "[('C0157', 0.9602751057942884), ('C0069', 0.9364788887212507), ('C0026', 0.9277254827838058)]\n"
          ]
        }
      ]
    },
    {
      "cell_type": "markdown",
      "source": [
        "#Step 5: Save Recommendations to CSV"
      ],
      "metadata": {
        "id": "-sMRZ2tZfw2u"
      }
    },
    {
      "cell_type": "code",
      "source": [
        "# Convert the lookalike recommendations to a DataFrame\n",
        "lookalike_df = pd.DataFrame([\n",
        "    {'CustomerID': cust_id, 'Lookalikes': str(recommendations)}\n",
        "    for cust_id, recommendations in lookalike_recommendations.items()\n",
        "])\n",
        "\n",
        "# Save to CSV\n",
        "lookalike_df.to_csv('Lookalike.csv', index=False)\n"
      ],
      "metadata": {
        "id": "Wjl4UhrtftEu"
      },
      "execution_count": null,
      "outputs": []
    }
  ]
}